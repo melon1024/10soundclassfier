{
 "cells": [
  {
   "cell_type": "code",
   "execution_count": 5,
   "metadata": {
    "collapsed": false
   },
   "outputs": [
    {
     "name": "stdout",
     "output_type": "stream",
     "text": [
      "baby\n",
      "car\n",
      "my\n",
      "('baby', '', 2)\n",
      "('car', '', 1)\n",
      "('my', '', 3)\n"
     ]
    }
   ],
   "source": [
    "#test for dic\n",
    "\n",
    "temp_dict={'car':1,'baby':2,'my':3}\n",
    "\n",
    "for x in temp_dict:\n",
    "    print(x)\n",
    "\n",
    "for val, key in temp_dict.items():\n",
    "    print(val,'',key)"
   ]
  },
  {
   "cell_type": "code",
   "execution_count": null,
   "metadata": {
    "collapsed": true
   },
   "outputs": [],
   "source": []
  },
  {
   "cell_type": "code",
   "execution_count": null,
   "metadata": {
    "collapsed": true
   },
   "outputs": [],
   "source": []
  }
 ],
 "metadata": {
  "kernelspec": {
   "display_name": "Python 2",
   "language": "python",
   "name": "python2"
  },
  "language_info": {
   "codemirror_mode": {
    "name": "ipython",
    "version": 2
   },
   "file_extension": ".py",
   "mimetype": "text/x-python",
   "name": "python",
   "nbconvert_exporter": "python",
   "pygments_lexer": "ipython2",
   "version": "2.7.12"
  }
 },
 "nbformat": 4,
 "nbformat_minor": 1
}
