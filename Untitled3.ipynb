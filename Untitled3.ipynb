{
 "cells": [
  {
   "cell_type": "code",
   "execution_count": 44,
   "metadata": {
    "collapsed": false,
    "scrolled": true
   },
   "outputs": [
    {
     "name": "stdout",
     "output_type": "stream",
     "text": [
      "39450\n",
      "17225\n"
     ]
    },
    {
     "ename": "AttributeError",
     "evalue": "'module' object has no attribute 'split'",
     "output_type": "error",
     "traceback": [
      "\u001b[0;31m---------------------------------------------------------------------------\u001b[0m",
      "\u001b[0;31mAttributeError\u001b[0m                            Traceback (most recent call last)",
      "\u001b[0;32m<ipython-input-44-d0c1baed6a71>\u001b[0m in \u001b[0;36m<module>\u001b[0;34m()\u001b[0m\n\u001b[1;32m     26\u001b[0m \u001b[0mwavform\u001b[0m \u001b[0;34m=\u001b[0m \u001b[0mlibrosa\u001b[0m\u001b[0;34m.\u001b[0m\u001b[0mdisplay\u001b[0m\u001b[0;34m.\u001b[0m\u001b[0mwaveplot\u001b[0m\u001b[0;34m(\u001b[0m\u001b[0mX\u001b[0m\u001b[0;34m,\u001b[0m \u001b[0msr\u001b[0m\u001b[0;34m=\u001b[0m\u001b[0msample_rate\u001b[0m\u001b[0;34m)\u001b[0m\u001b[0;34m\u001b[0m\u001b[0m\n\u001b[1;32m     27\u001b[0m \u001b[0mhop_length\u001b[0m \u001b[0;34m=\u001b[0m \u001b[0;36m512\u001b[0m\u001b[0;34m\u001b[0m\u001b[0m\n\u001b[0;32m---> 28\u001b[0;31m \u001b[0mintervals\u001b[0m \u001b[0;34m=\u001b[0m \u001b[0mlibrosa\u001b[0m\u001b[0;34m.\u001b[0m\u001b[0meffects\u001b[0m\u001b[0;34m.\u001b[0m\u001b[0msplit\u001b[0m\u001b[0;34m(\u001b[0m\u001b[0mX\u001b[0m\u001b[0;34m,\u001b[0m \u001b[0mhop_length\u001b[0m\u001b[0;34m=\u001b[0m\u001b[0mhop_length\u001b[0m\u001b[0;34m)\u001b[0m\u001b[0;34m\u001b[0m\u001b[0m\n\u001b[0m\u001b[1;32m     29\u001b[0m \u001b[0minterval_times\u001b[0m \u001b[0;34m=\u001b[0m \u001b[0mlibrosa\u001b[0m\u001b[0;34m.\u001b[0m\u001b[0msamples_to_time\u001b[0m\u001b[0;34m(\u001b[0m\u001b[0mintervals\u001b[0m\u001b[0;34m,\u001b[0m \u001b[0msr\u001b[0m\u001b[0;34m=\u001b[0m\u001b[0msr\u001b[0m\u001b[0;34m)\u001b[0m\u001b[0;34m\u001b[0m\u001b[0m\n\u001b[1;32m     30\u001b[0m \u001b[0mplt\u001b[0m\u001b[0;34m.\u001b[0m\u001b[0mfigure\u001b[0m\u001b[0;34m(\u001b[0m\u001b[0;34m)\u001b[0m\u001b[0;34m\u001b[0m\u001b[0m\n",
      "\u001b[0;31mAttributeError\u001b[0m: 'module' object has no attribute 'split'"
     ]
    }
   ],
   "source": [
    "import matplotlib.pyplot as plt\n",
    "from librosa import *\n",
    "import numpy as np\n",
    "np.set_printoptions(threshold='nan')\n",
    "X, sample_rate = librosa.load(\"/home/sovis2016/asd/7/15419__pagancow__dorm-door-opening.wav\")\n",
    "index = np.array([])\n",
    "count = 0\n",
    "for i,amp in enumerate(X):\n",
    "    if(abs(amp) <0.01) :\n",
    "        index =np.append(index,i)\n",
    "        #print(amp)\n",
    "        count +=1\n",
    "tX = np.delete(X,index)\n",
    "#wavform = librosa.display.waveplot(tX, sr=sample_rate)\n",
    "print X.size\n",
    "print tX.size\n",
    "librosa.output.write_wav('trim.wav', tX, sample_rate)\n",
    "#yt, index = librosa.effect.trim(X,top_db=0.01)\n",
    "#librosa.displat.wavepot(yt,sr=sample_rate)\n",
    "S = librosa.feature.mfcc(y=X, sr=sample_rate, \n",
    "                         n_mfcc=39,hop_length=int(sample_rate*0.01),n_fft=int(sample_rate*0.02),htk=True)\n",
    "mfccs = librosa.logamplitude(S)\n",
    "wavform = plt.subplot(2, 1, 1)\n",
    "plt.title('Mono wave Form')\n",
    "wavform.grid(True)\n",
    "wavform = librosa.display.waveplot(X, sr=sample_rate)\n",
    "hop_length = 512\n",
    "intervals = librosa.effects.split(X, hop_length=hop_length)\n",
    "interval_times = librosa.samples_to_time(intervals, sr=sr)\n",
    "plt.figure()\n",
    "librosa.display.waveplot(X, sr=sample_rate)\n",
    "for ival in interval_times:\n",
    "    plt.axvspan(ival[0], ival[1], ymin=-1, ymax=1, alpha=0.25, color='r')\n",
    "plt.setp(wavform,color='k')\n",
    "plt.subplot(2, 2, 3)\n",
    "plt.title('log amplitude\\'s MFCCs')\n",
    "librosa.display.specshow(mfccs,x_axis='frames',y_axis='mel')\n",
    "plt.imshow(mfccs, origin='lower', aspect='auto', interpolation='nearest',cmap='RdBu_r')\n",
    "plt.axis('on')\n",
    "plt.ylabel('MFCC coefficient index')\n",
    "plt.xlabel('Window index')\n",
    "plt.colorbar()\n",
    "plt.subplot(2, 2, 4)\n",
    "#librosa.display.specshow(S, 'ro')\n",
    "plt.imshow(S, origin='lower', aspect='auto', interpolation='nearest',cmap='RdBu_r')\n",
    "plt.xlabel('Window index')\n",
    "plt.tick_params(\n",
    "    axis='y',          # changes apply to the x-axis\n",
    "    which='both',      # both major and minor ticks are affected\n",
    "    bottom='off',      # ticks along the bottom edge are off\n",
    "    top='off',         # ticks along the top edge are off\n",
    "    left='off',\n",
    "    right='off',\n",
    "    labelleft='on') # labels along the bottom edge are off\n",
    "plt.axis('on')\n",
    "plt.colorbar()\n",
    "plt.title('MFCCs')\n",
    "plt.tight_layout()\n",
    "plt.savefig(\"a.png\",dpi=200)\n",
    "plt.show()"
   ]
  },
  {
   "cell_type": "code",
   "execution_count": null,
   "metadata": {
    "collapsed": true
   },
   "outputs": [],
   "source": []
  },
  {
   "cell_type": "code",
   "execution_count": null,
   "metadata": {
    "collapsed": true
   },
   "outputs": [],
   "source": []
  }
 ],
 "metadata": {
  "kernelspec": {
   "display_name": "Python 2",
   "language": "python",
   "name": "python2"
  },
  "language_info": {
   "codemirror_mode": {
    "name": "ipython",
    "version": 2
   },
   "file_extension": ".py",
   "mimetype": "text/x-python",
   "name": "python",
   "nbconvert_exporter": "python",
   "pygments_lexer": "ipython2",
   "version": "2.7.12"
  }
 },
 "nbformat": 4,
 "nbformat_minor": 1
}
