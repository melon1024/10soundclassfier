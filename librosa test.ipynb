{
 "cells": [
  {
   "cell_type": "code",
   "execution_count": 4,
   "metadata": {
    "collapsed": false
   },
   "outputs": [],
   "source": [
    "import glob\n",
    "import librosa\n",
    "import numpy as np\n",
    "import matplotlib.pyplot as plt\n",
    "\n",
    "def pltshow(filename) : \n",
    "#    y, sr = librosa.load(\"/home/sovis2016/newdataset/0/BBC002_02.wav\")\n",
    "    y, sr = librosa.load(filename)\n",
    "    librosa.feature.melspectrogram(y=y, sr=sr)\n",
    "    # array([[  2.891e-07,   2.548e-03, ...,   8.116e-09,   5.633e-09],\n",
    "    # [  1.986e-07,   1.162e-02, ...,   9.332e-08,   6.716e-09],\n",
    "    # ...,\n",
    "    # [  3.668e-09,   2.029e-08, ...,   3.208e-09,   2.864e-09],\n",
    "    # [  2.561e-10,   2.096e-09, ...,   7.543e-10,   6.101e-10]])\n",
    "\n",
    "    # Using a pre-computed power spectrogram\n",
    "\n",
    "    D = np.abs(librosa.stft(y))**2\n",
    "    S = librosa.feature.melspectrogram(S=D)\n",
    "\n",
    "    # Passing through arguments to the Mel filters\n",
    "    S = librosa.feature.melspectrogram(y=y, sr=sr, n_mels=128,fmax=8000)\n",
    "    #wavform = plt.subplot(2, 1, 1)\n",
    "    #wavform.grid(True)\n",
    "    #wavform = librosa.display.waveplot(X, sr=sample_rate)\n",
    "    librosa.display.waveplot(y, sr)\n",
    "    plt.title('Mono wave Form')\n",
    "    plt.show()\n",
    "    librosa.display.specshow(librosa.logamplitude(S,ref_power=np.max),y_axis='mel', fmax=8000,x_axis='time')\n",
    "    plt.colorbar(format='%+2.0f dB')\n",
    "    plt.title('Mel spectrogram')\n",
    "    plt.tight_layout()\n",
    "    plt.show()\n",
    "    \n",
    "#print(\"start\")\n",
    "#for i in range(10):\n",
    "#    all_mfccs = []\n",
    "#    files = glob.glob('./newdataset/%d/*.wav' % i)\n",
    "#    col = len(files)\n",
    "#    all_mfccs = np.ndarray(shape=[0,39],dtype=np.float32)\n",
    "#    print( all_mfccs.shape)\n",
    "#    print(files)\n",
    "#    for eachfile in files :\n",
    "#        print(eachfile)\n",
    "#        pltshow(eachfile)\n",
    "#        print(feature.shape)\n",
    "#        all_mfccs = np.append(all_mfccs,feature,axis=0)\n",
    "#        print(eachfile,\"is done\")\n",
    "#    print(all_mfccs.shape)\n",
    "#    np.savez('%d' %i , X=all_mfccs)\n",
    "#print(\"end\")"
   ]
  },
  {
   "cell_type": "code",
   "execution_count": null,
   "metadata": {
    "collapsed": true
   },
   "outputs": [],
   "source": []
  }
 ],
 "metadata": {
  "kernelspec": {
   "display_name": "Python 2",
   "language": "python",
   "name": "python2"
  },
  "language_info": {
   "codemirror_mode": {
    "name": "ipython",
    "version": 2
   },
   "file_extension": ".py",
   "mimetype": "text/x-python",
   "name": "python",
   "nbconvert_exporter": "python",
   "pygments_lexer": "ipython2",
   "version": "2.7.12"
  }
 },
 "nbformat": 4,
 "nbformat_minor": 1
}
